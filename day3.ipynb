{
 "cells": [
  {
   "cell_type": "code",
   "execution_count": 1,
   "metadata": {},
   "outputs": [],
   "source": [
    "import numpy as np\n",
    "import pandas as pd\n",
    "import seaborn as sns\n",
    "from sklearn.model_selection import train_test_split"
   ]
  },
  {
   "cell_type": "code",
   "execution_count": 2,
   "metadata": {},
   "outputs": [],
   "source": [
    "df = pd.read_csv('./data.csv', encoding='gbk')"
   ]
  },
  {
   "cell_type": "markdown",
   "metadata": {},
   "source": [
    "### 数据预览"
   ]
  },
  {
   "cell_type": "code",
   "execution_count": 3,
   "metadata": {
    "scrolled": true
   },
   "outputs": [
    {
     "data": {
      "text/html": [
       "<div>\n",
       "<style scoped>\n",
       "    .dataframe tbody tr th:only-of-type {\n",
       "        vertical-align: middle;\n",
       "    }\n",
       "\n",
       "    .dataframe tbody tr th {\n",
       "        vertical-align: top;\n",
       "    }\n",
       "\n",
       "    .dataframe thead th {\n",
       "        text-align: right;\n",
       "    }\n",
       "</style>\n",
       "<table border=\"1\" class=\"dataframe\">\n",
       "  <thead>\n",
       "    <tr style=\"text-align: right;\">\n",
       "      <th></th>\n",
       "      <th>Unnamed: 0</th>\n",
       "      <th>custid</th>\n",
       "      <th>trade_no</th>\n",
       "      <th>bank_card_no</th>\n",
       "      <th>low_volume_percent</th>\n",
       "      <th>middle_volume_percent</th>\n",
       "      <th>take_amount_in_later_12_month_highest</th>\n",
       "      <th>trans_amount_increase_rate_lately</th>\n",
       "      <th>trans_activity_month</th>\n",
       "      <th>trans_activity_day</th>\n",
       "      <th>...</th>\n",
       "      <th>loans_max_limit</th>\n",
       "      <th>loans_avg_limit</th>\n",
       "      <th>consfin_credit_limit</th>\n",
       "      <th>consfin_credibility</th>\n",
       "      <th>consfin_org_count_current</th>\n",
       "      <th>consfin_product_count</th>\n",
       "      <th>consfin_max_limit</th>\n",
       "      <th>consfin_avg_limit</th>\n",
       "      <th>latest_query_day</th>\n",
       "      <th>loans_latest_day</th>\n",
       "    </tr>\n",
       "  </thead>\n",
       "  <tbody>\n",
       "    <tr>\n",
       "      <th>0</th>\n",
       "      <td>5</td>\n",
       "      <td>2791858</td>\n",
       "      <td>20180507115231274000000023057383</td>\n",
       "      <td>卡号1</td>\n",
       "      <td>0.01</td>\n",
       "      <td>0.99</td>\n",
       "      <td>0</td>\n",
       "      <td>0.90</td>\n",
       "      <td>0.55</td>\n",
       "      <td>0.313</td>\n",
       "      <td>...</td>\n",
       "      <td>2900.0</td>\n",
       "      <td>1688.0</td>\n",
       "      <td>1200.0</td>\n",
       "      <td>75.0</td>\n",
       "      <td>1.0</td>\n",
       "      <td>2.0</td>\n",
       "      <td>1200.0</td>\n",
       "      <td>1200.0</td>\n",
       "      <td>12.0</td>\n",
       "      <td>18.0</td>\n",
       "    </tr>\n",
       "    <tr>\n",
       "      <th>1</th>\n",
       "      <td>10</td>\n",
       "      <td>534047</td>\n",
       "      <td>20180507121002192000000023073000</td>\n",
       "      <td>卡号1</td>\n",
       "      <td>0.02</td>\n",
       "      <td>0.94</td>\n",
       "      <td>2000</td>\n",
       "      <td>1.28</td>\n",
       "      <td>1.00</td>\n",
       "      <td>0.458</td>\n",
       "      <td>...</td>\n",
       "      <td>3500.0</td>\n",
       "      <td>1758.0</td>\n",
       "      <td>15100.0</td>\n",
       "      <td>80.0</td>\n",
       "      <td>5.0</td>\n",
       "      <td>6.0</td>\n",
       "      <td>22800.0</td>\n",
       "      <td>9360.0</td>\n",
       "      <td>4.0</td>\n",
       "      <td>2.0</td>\n",
       "    </tr>\n",
       "    <tr>\n",
       "      <th>2</th>\n",
       "      <td>12</td>\n",
       "      <td>2849787</td>\n",
       "      <td>20180507125159718000000023114911</td>\n",
       "      <td>卡号1</td>\n",
       "      <td>0.04</td>\n",
       "      <td>0.96</td>\n",
       "      <td>0</td>\n",
       "      <td>1.00</td>\n",
       "      <td>1.00</td>\n",
       "      <td>0.114</td>\n",
       "      <td>...</td>\n",
       "      <td>1600.0</td>\n",
       "      <td>1250.0</td>\n",
       "      <td>4200.0</td>\n",
       "      <td>87.0</td>\n",
       "      <td>1.0</td>\n",
       "      <td>1.0</td>\n",
       "      <td>4200.0</td>\n",
       "      <td>4200.0</td>\n",
       "      <td>2.0</td>\n",
       "      <td>6.0</td>\n",
       "    </tr>\n",
       "    <tr>\n",
       "      <th>3</th>\n",
       "      <td>13</td>\n",
       "      <td>1809708</td>\n",
       "      <td>20180507121358683000000388283484</td>\n",
       "      <td>卡号1</td>\n",
       "      <td>0.00</td>\n",
       "      <td>0.96</td>\n",
       "      <td>2000</td>\n",
       "      <td>0.13</td>\n",
       "      <td>0.57</td>\n",
       "      <td>0.777</td>\n",
       "      <td>...</td>\n",
       "      <td>3200.0</td>\n",
       "      <td>1541.0</td>\n",
       "      <td>16300.0</td>\n",
       "      <td>80.0</td>\n",
       "      <td>5.0</td>\n",
       "      <td>5.0</td>\n",
       "      <td>30000.0</td>\n",
       "      <td>12180.0</td>\n",
       "      <td>2.0</td>\n",
       "      <td>4.0</td>\n",
       "    </tr>\n",
       "    <tr>\n",
       "      <th>4</th>\n",
       "      <td>14</td>\n",
       "      <td>2499829</td>\n",
       "      <td>20180507115448545000000388205844</td>\n",
       "      <td>卡号1</td>\n",
       "      <td>0.01</td>\n",
       "      <td>0.99</td>\n",
       "      <td>0</td>\n",
       "      <td>0.46</td>\n",
       "      <td>1.00</td>\n",
       "      <td>0.175</td>\n",
       "      <td>...</td>\n",
       "      <td>2300.0</td>\n",
       "      <td>1630.0</td>\n",
       "      <td>8300.0</td>\n",
       "      <td>79.0</td>\n",
       "      <td>2.0</td>\n",
       "      <td>2.0</td>\n",
       "      <td>8400.0</td>\n",
       "      <td>8250.0</td>\n",
       "      <td>22.0</td>\n",
       "      <td>120.0</td>\n",
       "    </tr>\n",
       "  </tbody>\n",
       "</table>\n",
       "<p>5 rows × 90 columns</p>\n",
       "</div>"
      ],
      "text/plain": [
       "   Unnamed: 0   custid                          trade_no bank_card_no  \\\n",
       "0           5  2791858  20180507115231274000000023057383          卡号1   \n",
       "1          10   534047  20180507121002192000000023073000          卡号1   \n",
       "2          12  2849787  20180507125159718000000023114911          卡号1   \n",
       "3          13  1809708  20180507121358683000000388283484          卡号1   \n",
       "4          14  2499829  20180507115448545000000388205844          卡号1   \n",
       "\n",
       "   low_volume_percent  middle_volume_percent  \\\n",
       "0                0.01                   0.99   \n",
       "1                0.02                   0.94   \n",
       "2                0.04                   0.96   \n",
       "3                0.00                   0.96   \n",
       "4                0.01                   0.99   \n",
       "\n",
       "   take_amount_in_later_12_month_highest  trans_amount_increase_rate_lately  \\\n",
       "0                                      0                               0.90   \n",
       "1                                   2000                               1.28   \n",
       "2                                      0                               1.00   \n",
       "3                                   2000                               0.13   \n",
       "4                                      0                               0.46   \n",
       "\n",
       "   trans_activity_month  trans_activity_day  ...  loans_max_limit  \\\n",
       "0                  0.55               0.313  ...           2900.0   \n",
       "1                  1.00               0.458  ...           3500.0   \n",
       "2                  1.00               0.114  ...           1600.0   \n",
       "3                  0.57               0.777  ...           3200.0   \n",
       "4                  1.00               0.175  ...           2300.0   \n",
       "\n",
       "   loans_avg_limit  consfin_credit_limit  consfin_credibility  \\\n",
       "0           1688.0                1200.0                 75.0   \n",
       "1           1758.0               15100.0                 80.0   \n",
       "2           1250.0                4200.0                 87.0   \n",
       "3           1541.0               16300.0                 80.0   \n",
       "4           1630.0                8300.0                 79.0   \n",
       "\n",
       "   consfin_org_count_current  consfin_product_count  consfin_max_limit  \\\n",
       "0                        1.0                    2.0             1200.0   \n",
       "1                        5.0                    6.0            22800.0   \n",
       "2                        1.0                    1.0             4200.0   \n",
       "3                        5.0                    5.0            30000.0   \n",
       "4                        2.0                    2.0             8400.0   \n",
       "\n",
       "   consfin_avg_limit  latest_query_day  loans_latest_day  \n",
       "0             1200.0              12.0              18.0  \n",
       "1             9360.0               4.0               2.0  \n",
       "2             4200.0               2.0               6.0  \n",
       "3            12180.0               2.0               4.0  \n",
       "4             8250.0              22.0             120.0  \n",
       "\n",
       "[5 rows x 90 columns]"
      ]
     },
     "execution_count": 3,
     "metadata": {},
     "output_type": "execute_result"
    }
   ],
   "source": [
    "df.head()"
   ]
  },
  {
   "cell_type": "markdown",
   "metadata": {},
   "source": [
    "### 数据维度 4754行，90列"
   ]
  },
  {
   "cell_type": "code",
   "execution_count": 4,
   "metadata": {},
   "outputs": [
    {
     "data": {
      "text/plain": [
       "(4754, 90)"
      ]
     },
     "execution_count": 4,
     "metadata": {},
     "output_type": "execute_result"
    }
   ],
   "source": [
    "df.shape"
   ]
  },
  {
   "cell_type": "markdown",
   "metadata": {},
   "source": [
    "### 查看列的数据类型分布"
   ]
  },
  {
   "cell_type": "code",
   "execution_count": 5,
   "metadata": {},
   "outputs": [
    {
     "data": {
      "text/plain": [
       "float64    70\n",
       "int64      13\n",
       "object      7\n",
       "dtype: int64"
      ]
     },
     "execution_count": 5,
     "metadata": {},
     "output_type": "execute_result"
    }
   ],
   "source": [
    "df.dtypes.value_counts()"
   ]
  },
  {
   "cell_type": "code",
   "execution_count": 6,
   "metadata": {},
   "outputs": [
    {
     "data": {
      "text/plain": [
       "array(['trade_no', 'bank_card_no', 'reg_preference_for_trad', 'source',\n",
       "       'id_name', 'latest_query_time', 'loans_latest_time'], dtype=object)"
      ]
     },
     "execution_count": 6,
     "metadata": {},
     "output_type": "execute_result"
    }
   ],
   "source": [
    "df.select_dtypes(include='object').columns.values"
   ]
  },
  {
   "cell_type": "code",
   "execution_count": 7,
   "metadata": {},
   "outputs": [
    {
     "data": {
      "text/plain": [
       "array(['Unnamed: 0', 'custid', 'take_amount_in_later_12_month_highest',\n",
       "       'repayment_capability', 'is_high_user', 'historical_trans_amount',\n",
       "       'trans_amount_3_month', 'abs', 'avg_price_last_12_month',\n",
       "       'max_cumulative_consume_later_1_month',\n",
       "       'pawns_auctions_trusts_consume_last_1_month',\n",
       "       'pawns_auctions_trusts_consume_last_6_month', 'status'],\n",
       "      dtype=object)"
      ]
     },
     "execution_count": 7,
     "metadata": {},
     "output_type": "execute_result"
    }
   ],
   "source": [
    "df.select_dtypes(include='int64').columns.values"
   ]
  },
  {
   "cell_type": "code",
   "execution_count": 8,
   "metadata": {},
   "outputs": [
    {
     "data": {
      "text/plain": [
       "array(['low_volume_percent', 'middle_volume_percent',\n",
       "       'trans_amount_increase_rate_lately', 'trans_activity_month',\n",
       "       'trans_activity_day', 'transd_mcc', 'trans_days_interval_filter',\n",
       "       'trans_days_interval', 'regional_mobility', 'student_feature',\n",
       "       'number_of_trans_from_2011', 'first_transaction_time',\n",
       "       'historical_trans_day', 'rank_trad_1_month',\n",
       "       'avg_consume_less_12_valid_month', 'top_trans_count_last_1_month',\n",
       "       'avg_price_top_last_12_valid_month', 'trans_top_time_last_1_month',\n",
       "       'trans_top_time_last_6_month', 'consume_top_time_last_1_month',\n",
       "       'consume_top_time_last_6_month',\n",
       "       'cross_consume_count_last_1_month',\n",
       "       'trans_fail_top_count_enum_last_1_month',\n",
       "       'trans_fail_top_count_enum_last_6_month',\n",
       "       'trans_fail_top_count_enum_last_12_month',\n",
       "       'consume_mini_time_last_1_month',\n",
       "       'max_consume_count_later_6_month',\n",
       "       'railway_consume_count_last_12_month',\n",
       "       'jewelry_consume_count_last_6_month', 'first_transaction_day',\n",
       "       'trans_day_last_12_month', 'apply_score', 'apply_credibility',\n",
       "       'query_org_count', 'query_finance_count', 'query_cash_count',\n",
       "       'query_sum_count', 'latest_one_month_apply',\n",
       "       'latest_three_month_apply', 'latest_six_month_apply',\n",
       "       'loans_score', 'loans_credibility_behavior', 'loans_count',\n",
       "       'loans_settle_count', 'loans_overdue_count',\n",
       "       'loans_org_count_behavior', 'consfin_org_count_behavior',\n",
       "       'loans_cash_count', 'latest_one_month_loan',\n",
       "       'latest_three_month_loan', 'latest_six_month_loan',\n",
       "       'history_suc_fee', 'history_fail_fee', 'latest_one_month_suc',\n",
       "       'latest_one_month_fail', 'loans_long_time', 'loans_credit_limit',\n",
       "       'loans_credibility_limit', 'loans_org_count_current',\n",
       "       'loans_product_count', 'loans_max_limit', 'loans_avg_limit',\n",
       "       'consfin_credit_limit', 'consfin_credibility',\n",
       "       'consfin_org_count_current', 'consfin_product_count',\n",
       "       'consfin_max_limit', 'consfin_avg_limit', 'latest_query_day',\n",
       "       'loans_latest_day'], dtype=object)"
      ]
     },
     "execution_count": 8,
     "metadata": {},
     "output_type": "execute_result"
    }
   ],
   "source": [
    "df.select_dtypes(include='float64').columns.values"
   ]
  },
  {
   "cell_type": "code",
   "execution_count": 9,
   "metadata": {},
   "outputs": [
    {
     "data": {
      "text/plain": [
       "0    20130817.0\n",
       "1    20160402.0\n",
       "2    20170617.0\n",
       "3    20130516.0\n",
       "4    20170312.0\n",
       "Name: first_transaction_time, dtype: float64"
      ]
     },
     "execution_count": 9,
     "metadata": {},
     "output_type": "execute_result"
    }
   ],
   "source": [
    "df['first_transaction_time'].head(5)"
   ]
  },
  {
   "cell_type": "markdown",
   "metadata": {},
   "source": [
    "### first_transaction_time被pandas识别为float64，后期需要做数据类型转换"
   ]
  },
  {
   "cell_type": "markdown",
   "metadata": {},
   "source": [
    "### 查看status值的分布情况"
   ]
  },
  {
   "cell_type": "code",
   "execution_count": 10,
   "metadata": {},
   "outputs": [
    {
     "data": {
      "text/plain": [
       "0    3561\n",
       "1    1193\n",
       "Name: status, dtype: int64"
      ]
     },
     "execution_count": 10,
     "metadata": {},
     "output_type": "execute_result"
    }
   ],
   "source": [
    "df['status'].value_counts()"
   ]
  },
  {
   "cell_type": "code",
   "execution_count": 11,
   "metadata": {},
   "outputs": [
    {
     "data": {
      "text/plain": [
       "<matplotlib.axes._subplots.AxesSubplot at 0x12f4687f0>"
      ]
     },
     "execution_count": 11,
     "metadata": {},
     "output_type": "execute_result"
    },
    {
     "data": {
      "image/png": "[encoded data removed]",
      "text/plain": [
       "<Figure size 432x288 with 1 Axes>"
      ]
     },
     "metadata": {
      "needs_background": "light"
     },
     "output_type": "display_data"
    }
   ],
   "source": [
    "sns.countplot(df['status'])"
   ]
  },
  {
   "cell_type": "code",
   "execution_count": 12,
   "metadata": {},
   "outputs": [
    {
     "data": {
      "text/plain": [
       "Index(['Unnamed: 0', 'custid', 'trade_no', 'bank_card_no',\n",
       "       'low_volume_percent', 'middle_volume_percent',\n",
       "       'take_amount_in_later_12_month_highest',\n",
       "       'trans_amount_increase_rate_lately', 'trans_activity_month',\n",
       "       'trans_activity_day', 'transd_mcc', 'trans_days_interval_filter',\n",
       "       'trans_days_interval', 'regional_mobility', 'student_feature',\n",
       "       'repayment_capability', 'is_high_user', 'number_of_trans_from_2011',\n",
       "       'first_transaction_time', 'historical_trans_amount',\n",
       "       'historical_trans_day', 'rank_trad_1_month', 'trans_amount_3_month',\n",
       "       'avg_consume_less_12_valid_month', 'abs',\n",
       "       'top_trans_count_last_1_month', 'avg_price_last_12_month',\n",
       "       'avg_price_top_last_12_valid_month', 'reg_preference_for_trad',\n",
       "       'trans_top_time_last_1_month', 'trans_top_time_last_6_month',\n",
       "       'consume_top_time_last_1_month', 'consume_top_time_last_6_month',\n",
       "       'cross_consume_count_last_1_month',\n",
       "       'trans_fail_top_count_enum_last_1_month',\n",
       "       'trans_fail_top_count_enum_last_6_month',\n",
       "       'trans_fail_top_count_enum_last_12_month',\n",
       "       'consume_mini_time_last_1_month',\n",
       "       'max_cumulative_consume_later_1_month',\n",
       "       'max_consume_count_later_6_month',\n",
       "       'railway_consume_count_last_12_month',\n",
       "       'pawns_auctions_trusts_consume_last_1_month',\n",
       "       'pawns_auctions_trusts_consume_last_6_month',\n",
       "       'jewelry_consume_count_last_6_month', 'status', 'source',\n",
       "       'first_transaction_day', 'trans_day_last_12_month', 'id_name',\n",
       "       'apply_score', 'apply_credibility', 'query_org_count',\n",
       "       'query_finance_count', 'query_cash_count', 'query_sum_count',\n",
       "       'latest_query_time', 'latest_one_month_apply',\n",
       "       'latest_three_month_apply', 'latest_six_month_apply', 'loans_score',\n",
       "       'loans_credibility_behavior', 'loans_count', 'loans_settle_count',\n",
       "       'loans_overdue_count', 'loans_org_count_behavior',\n",
       "       'consfin_org_count_behavior', 'loans_cash_count',\n",
       "       'latest_one_month_loan', 'latest_three_month_loan',\n",
       "       'latest_six_month_loan', 'history_suc_fee', 'history_fail_fee',\n",
       "       'latest_one_month_suc', 'latest_one_month_fail', 'loans_long_time',\n",
       "       'loans_latest_time', 'loans_credit_limit', 'loans_credibility_limit',\n",
       "       'loans_org_count_current', 'loans_product_count', 'loans_max_limit',\n",
       "       'loans_avg_limit', 'consfin_credit_limit', 'consfin_credibility',\n",
       "       'consfin_org_count_current', 'consfin_product_count',\n",
       "       'consfin_max_limit', 'consfin_avg_limit', 'latest_query_day',\n",
       "       'loans_latest_day'],\n",
       "      dtype='object')"
      ]
     },
     "execution_count": 12,
     "metadata": {},
     "output_type": "execute_result"
    }
   ],
   "source": [
    "df.columns"
   ]
  },
  {
   "cell_type": "markdown",
   "metadata": {},
   "source": [
    "### 删除无关列\n",
    "#### 怎么确定是和status无关的列呢？是不是要计算相关性才知道呢？这块不知道怎么弄"
   ]
  },
  {
   "cell_type": "code",
   "execution_count": 13,
   "metadata": {},
   "outputs": [],
   "source": [
    "df.drop(['Unnamed: 0', 'custid', 'trade_no', 'bank_card_no'], axis=1, inplace=True)"
   ]
  },
  {
   "cell_type": "markdown",
   "metadata": {},
   "source": [
    "### 缺失数据处理，主要使用删除法、填补法和插值法\n",
    "#### 删除法\n",
    "##### 当数据中的某个变量大部分值都是缺失值，可以考虑删除改变量；当缺失值是随机分布的，且缺失的数量并不是很多是，也可以删除这些缺失的观测。\n",
    "##### 替补法\n",
    "##### 对于连续型变量，如果变量的分布近似或就是正态分布的话，可以用均值替代那些缺失值；如果变量是有偏的，可以使用中位数来代替那些缺失值；对于离散型变量，我们一般用众数去替换那些存在缺失的观测。\n",
    "#### 插补法\n",
    "##### 插补法是基于蒙特卡洛模拟法，结合线性模型、广义线性模型、决策树等方法计算出来的预测值替换缺失值。"
   ]
  },
  {
   "cell_type": "code",
   "execution_count": 14,
   "metadata": {},
   "outputs": [
    {
     "data": {
      "text/plain": [
       "low_volume_percent                          2\n",
       "middle_volume_percent                       2\n",
       "take_amount_in_later_12_month_highest       0\n",
       "trans_amount_increase_rate_lately           3\n",
       "trans_activity_month                        2\n",
       "trans_activity_day                          2\n",
       "transd_mcc                                  2\n",
       "trans_days_interval_filter                  8\n",
       "trans_days_interval                         2\n",
       "regional_mobility                           2\n",
       "student_feature                          2998\n",
       "repayment_capability                        0\n",
       "is_high_user                                0\n",
       "number_of_trans_from_2011                   2\n",
       "first_transaction_time                      2\n",
       "historical_trans_amount                     0\n",
       "historical_trans_day                        2\n",
       "rank_trad_1_month                           2\n",
       "trans_amount_3_month                        0\n",
       "avg_consume_less_12_valid_month             2\n",
       "abs                                         0\n",
       "top_trans_count_last_1_month                2\n",
       "avg_price_last_12_month                     0\n",
       "avg_price_top_last_12_valid_month         104\n",
       "reg_preference_for_trad                     2\n",
       "trans_top_time_last_1_month                 8\n",
       "trans_top_time_last_6_month                 8\n",
       "consume_top_time_last_1_month               8\n",
       "consume_top_time_last_6_month               8\n",
       "cross_consume_count_last_1_month          426\n",
       "                                         ... \n",
       "loans_credibility_behavior                297\n",
       "loans_count                               297\n",
       "loans_settle_count                        297\n",
       "loans_overdue_count                       297\n",
       "loans_org_count_behavior                  297\n",
       "consfin_org_count_behavior                297\n",
       "loans_cash_count                          297\n",
       "latest_one_month_loan                     297\n",
       "latest_three_month_loan                   297\n",
       "latest_six_month_loan                     297\n",
       "history_suc_fee                           297\n",
       "history_fail_fee                          297\n",
       "latest_one_month_suc                      297\n",
       "latest_one_month_fail                     297\n",
       "loans_long_time                           297\n",
       "loans_latest_time                         297\n",
       "loans_credit_limit                        297\n",
       "loans_credibility_limit                   297\n",
       "loans_org_count_current                   297\n",
       "loans_product_count                       297\n",
       "loans_max_limit                           297\n",
       "loans_avg_limit                           297\n",
       "consfin_credit_limit                      297\n",
       "consfin_credibility                       297\n",
       "consfin_org_count_current                 297\n",
       "consfin_product_count                     297\n",
       "consfin_max_limit                         297\n",
       "consfin_avg_limit                         297\n",
       "latest_query_day                          304\n",
       "loans_latest_day                          297\n",
       "Length: 86, dtype: int64"
      ]
     },
     "execution_count": 14,
     "metadata": {},
     "output_type": "execute_result"
    }
   ],
   "source": [
    "df.isnull().sum()"
   ]
  },
  {
   "cell_type": "markdown",
   "metadata": {},
   "source": [
    "### 计算缺失率"
   ]
  },
  {
   "cell_type": "code",
   "execution_count": 15,
   "metadata": {},
   "outputs": [
    {
     "name": "stdout",
     "output_type": "stream",
     "text": [
      "0.0421 % -- low_volume_percent\n",
      "0.0421 % -- middle_volume_percent\n",
      "0.0631 % -- trans_amount_increase_rate_lately\n",
      "0.0421 % -- trans_activity_month\n",
      "0.0421 % -- trans_activity_day\n",
      "0.0421 % -- transd_mcc\n",
      "0.1683 % -- trans_days_interval_filter\n",
      "0.0421 % -- trans_days_interval\n",
      "0.0421 % -- regional_mobility\n",
      "63.0627 % -- student_feature\n",
      "0.0421 % -- number_of_trans_from_2011\n",
      "0.0421 % -- first_transaction_time\n",
      "0.0421 % -- historical_trans_day\n",
      "0.0421 % -- rank_trad_1_month\n",
      "0.0421 % -- avg_consume_less_12_valid_month\n",
      "0.0421 % -- top_trans_count_last_1_month\n",
      "2.1876 % -- avg_price_top_last_12_valid_month\n",
      "0.0421 % -- reg_preference_for_trad\n",
      "0.1683 % -- trans_top_time_last_1_month\n",
      "0.1683 % -- trans_top_time_last_6_month\n",
      "0.1683 % -- consume_top_time_last_1_month\n",
      "0.1683 % -- consume_top_time_last_6_month\n",
      "8.9609 % -- cross_consume_count_last_1_month\n",
      "0.3366 % -- trans_fail_top_count_enum_last_1_month\n",
      "0.3366 % -- trans_fail_top_count_enum_last_6_month\n",
      "0.3366 % -- trans_fail_top_count_enum_last_12_month\n",
      "0.5469 % -- consume_mini_time_last_1_month\n",
      "0.1683 % -- max_consume_count_later_6_month\n",
      "0.2524 % -- railway_consume_count_last_12_month\n",
      "0.2524 % -- jewelry_consume_count_last_6_month\n",
      "0.0421 % -- first_transaction_day\n",
      "0.0421 % -- trans_day_last_12_month\n",
      "5.8056 % -- id_name\n",
      "6.3946 % -- apply_score\n",
      "6.3946 % -- apply_credibility\n",
      "6.3946 % -- query_org_count\n",
      "6.3946 % -- query_finance_count\n",
      "6.3946 % -- query_cash_count\n",
      "6.3946 % -- query_sum_count\n",
      "6.3946 % -- latest_query_time\n",
      "6.3946 % -- latest_one_month_apply\n",
      "6.3946 % -- latest_three_month_apply\n",
      "6.3946 % -- latest_six_month_apply\n",
      "6.2474 % -- loans_score\n",
      "6.2474 % -- loans_credibility_behavior\n",
      "6.2474 % -- loans_count\n",
      "6.2474 % -- loans_settle_count\n",
      "6.2474 % -- loans_overdue_count\n",
      "6.2474 % -- loans_org_count_behavior\n",
      "6.2474 % -- consfin_org_count_behavior\n",
      "6.2474 % -- loans_cash_count\n",
      "6.2474 % -- latest_one_month_loan\n",
      "6.2474 % -- latest_three_month_loan\n",
      "6.2474 % -- latest_six_month_loan\n",
      "6.2474 % -- history_suc_fee\n",
      "6.2474 % -- history_fail_fee\n",
      "6.2474 % -- latest_one_month_suc\n",
      "6.2474 % -- latest_one_month_fail\n",
      "6.2474 % -- loans_long_time\n",
      "6.2474 % -- loans_latest_time\n",
      "6.2474 % -- loans_credit_limit\n",
      "6.2474 % -- loans_credibility_limit\n",
      "6.2474 % -- loans_org_count_current\n",
      "6.2474 % -- loans_product_count\n",
      "6.2474 % -- loans_max_limit\n",
      "6.2474 % -- loans_avg_limit\n",
      "6.2474 % -- consfin_credit_limit\n",
      "6.2474 % -- consfin_credibility\n",
      "6.2474 % -- consfin_org_count_current\n",
      "6.2474 % -- consfin_product_count\n",
      "6.2474 % -- consfin_max_limit\n",
      "6.2474 % -- consfin_avg_limit\n",
      "6.3946 % -- latest_query_day\n",
      "6.2474 % -- loans_latest_day\n"
     ]
    }
   ],
   "source": [
    "for feature in df.columns:\n",
    "    summ = df[feature].isnull().sum()\n",
    "    if summ:\n",
    "        print('%.4f'%(summ*100/df.shape[0]), '%',  '--', feature)"
   ]
  },
  {
   "cell_type": "markdown",
   "metadata": {},
   "source": [
    "#### 总记录行数为4754行，如果大多数都缺失，则删除该列，否则使用平均值进行填充\n",
    "##### 注意：如果使用平均值，则要保证列数据是数值类型"
   ]
  },
  {
   "cell_type": "code",
   "execution_count": 16,
   "metadata": {},
   "outputs": [],
   "source": [
    "df.drop(['student_feature'], axis=1, inplace=True)"
   ]
  },
  {
   "cell_type": "code",
   "execution_count": 17,
   "metadata": {},
   "outputs": [
    {
     "data": {
      "text/html": [
       "<div>\n",
       "<style scoped>\n",
       "    .dataframe tbody tr th:only-of-type {\n",
       "        vertical-align: middle;\n",
       "    }\n",
       "\n",
       "    .dataframe tbody tr th {\n",
       "        vertical-align: top;\n",
       "    }\n",
       "\n",
       "    .dataframe thead th {\n",
       "        text-align: right;\n",
       "    }\n",
       "</style>\n",
       "<table border=\"1\" class=\"dataframe\">\n",
       "  <thead>\n",
       "    <tr style=\"text-align: right;\">\n",
       "      <th></th>\n",
       "      <th>reg_preference_for_trad</th>\n",
       "      <th>source</th>\n",
       "      <th>id_name</th>\n",
       "      <th>latest_query_time</th>\n",
       "      <th>loans_latest_time</th>\n",
       "    </tr>\n",
       "  </thead>\n",
       "  <tbody>\n",
       "    <tr>\n",
       "      <th>count</th>\n",
       "      <td>4752</td>\n",
       "      <td>4754</td>\n",
       "      <td>4478</td>\n",
       "      <td>4450</td>\n",
       "      <td>4457</td>\n",
       "    </tr>\n",
       "    <tr>\n",
       "      <th>unique</th>\n",
       "      <td>5</td>\n",
       "      <td>1</td>\n",
       "      <td>4309</td>\n",
       "      <td>207</td>\n",
       "      <td>232</td>\n",
       "    </tr>\n",
       "    <tr>\n",
       "      <th>top</th>\n",
       "      <td>一线城市</td>\n",
       "      <td>xs</td>\n",
       "      <td>张龙</td>\n",
       "      <td>2018-04-14</td>\n",
       "      <td>2018-05-03</td>\n",
       "    </tr>\n",
       "    <tr>\n",
       "      <th>freq</th>\n",
       "      <td>3403</td>\n",
       "      <td>4754</td>\n",
       "      <td>5</td>\n",
       "      <td>423</td>\n",
       "      <td>134</td>\n",
       "    </tr>\n",
       "  </tbody>\n",
       "</table>\n",
       "</div>"
      ],
      "text/plain": [
       "       reg_preference_for_trad source id_name latest_query_time  \\\n",
       "count                     4752   4754    4478              4450   \n",
       "unique                       5      1    4309               207   \n",
       "top                       一线城市     xs      张龙        2018-04-14   \n",
       "freq                      3403   4754       5               423   \n",
       "\n",
       "       loans_latest_time  \n",
       "count               4457  \n",
       "unique               232  \n",
       "top           2018-05-03  \n",
       "freq                 134  "
      ]
     },
     "execution_count": 17,
     "metadata": {},
     "output_type": "execute_result"
    }
   ],
   "source": [
    "df.describe(include='O')"
   ]
  },
  {
   "cell_type": "code",
   "execution_count": 18,
   "metadata": {},
   "outputs": [],
   "source": [
    "df.drop(['source', 'id_name', 'latest_query_time'], axis=1, inplace=True)"
   ]
  },
  {
   "cell_type": "code",
   "execution_count": 19,
   "metadata": {},
   "outputs": [],
   "source": [
    "df['loans_latest_time'] = pd.to_datetime(df['loans_latest_time'], format='%Y-%m-%d')"
   ]
  },
  {
   "cell_type": "code",
   "execution_count": 20,
   "metadata": {},
   "outputs": [],
   "source": [
    "def dt_to_ts(dt):\n",
    "    try:\n",
    "        ts = time.mktime(dt.timetuple())\n",
    "    except:\n",
    "        ts = np.nan\n",
    "    return ts\n",
    "df['loans_latest_time'] = df['loans_latest_time'].apply(dt_to_ts)"
   ]
  },
  {
   "cell_type": "code",
   "execution_count": 21,
   "metadata": {},
   "outputs": [],
   "source": [
    "dic = {}\n",
    "for i, val in enumerate(list(df['reg_preference_for_trad'].unique())):\n",
    "    dic[val] = i\n",
    "df['reg_preference_for_trad'] = df['reg_preference_for_trad'].map(dic)"
   ]
  },
  {
   "cell_type": "code",
   "execution_count": 22,
   "metadata": {},
   "outputs": [],
   "source": [
    "for feature in df.columns:\n",
    "    summ = df[feature].isnull().sum()\n",
    "    if summ:\n",
    "        df[feature].fillna(df[feature].mean(), inplace=True)"
   ]
  },
  {
   "cell_type": "markdown",
   "metadata": {},
   "source": [
    "### 划分X, y"
   ]
  },
  {
   "cell_type": "code",
   "execution_count": 23,
   "metadata": {},
   "outputs": [],
   "source": [
    "y = df['status']\n",
    "X = df.drop('status', axis=1)"
   ]
  },
  {
   "cell_type": "markdown",
   "metadata": {},
   "source": [
    "### 划分数据集"
   ]
  },
  {
   "cell_type": "code",
   "execution_count": 24,
   "metadata": {},
   "outputs": [],
   "source": [
    "train_X, test_X, train_y, test_y = train_test_split(X, y, test_size=0.3, random_state=2018)"
   ]
  },
  {
   "cell_type": "markdown",
   "metadata": {},
   "source": [
    "### 特征工程"
   ]
  },
  {
   "cell_type": "markdown",
   "metadata": {},
   "source": [
    "##### 通过相关性进行特征筛选"
   ]
  },
  {
   "cell_type": "code",
   "execution_count": 25,
   "metadata": {},
   "outputs": [
    {
     "data": {
      "text/plain": [
       "<matplotlib.axes._subplots.AxesSubplot at 0x12f8b9198>"
      ]
     },
     "execution_count": 25,
     "metadata": {},
     "output_type": "execute_result"
    },
    {
     "data": {
      "image/png": "[encoded data removed]",
      "text/plain": [
       "<Figure size 432x288 with 2 Axes>"
      ]
     },
     "metadata": {
      "needs_background": "light"
     },
     "output_type": "display_data"
    }
   ],
   "source": [
    "train_set = pd.concat([train_X, train_y], axis=1)\n",
    "corr_mat = train_set.corr()\n",
    "sns.heatmap(corr_mat)"
   ]
  },
  {
   "cell_type": "code",
   "execution_count": 26,
   "metadata": {},
   "outputs": [],
   "source": [
    "cols = corr_mat.nlargest(10, 'status').index"
   ]
  },
  {
   "cell_type": "code",
   "execution_count": 27,
   "metadata": {},
   "outputs": [
    {
     "data": {
      "text/plain": [
       "Index(['status', 'trans_fail_top_count_enum_last_1_month', 'history_fail_fee',\n",
       "       'loans_overdue_count', 'latest_one_month_fail',\n",
       "       'trans_fail_top_count_enum_last_6_month', 'rank_trad_1_month',\n",
       "       'trans_fail_top_count_enum_last_12_month',\n",
       "       'top_trans_count_last_1_month', 'trans_day_last_12_month'],\n",
       "      dtype='object')"
      ]
     },
     "execution_count": 27,
     "metadata": {},
     "output_type": "execute_result"
    }
   ],
   "source": [
    "cols"
   ]
  },
  {
   "cell_type": "markdown",
   "metadata": {},
   "source": [
    "#### 通过计算IV值进行筛选"
   ]
  },
  {
   "cell_type": "code",
   "execution_count": 28,
   "metadata": {},
   "outputs": [],
   "source": [
    "# 如果计算IV值"
   ]
  },
  {
   "cell_type": "markdown",
   "metadata": {},
   "source": [
    "#### 通过随机森林进行筛选"
   ]
  },
  {
   "cell_type": "code",
   "execution_count": 29,
   "metadata": {},
   "outputs": [],
   "source": [
    "# 如何使用随机森林"
   ]
  },
  {
   "cell_type": "markdown",
   "metadata": {},
   "source": [
    "#### 逻辑回归 LogisticRegression\n",
    "##### 二分类"
   ]
  },
  {
   "cell_type": "code",
   "execution_count": null,
   "metadata": {},
   "outputs": [],
   "source": [
    "from sklearn.metrics import accuracy_score\n",
    "from sklearn.linear_model import LogisticRegression\n",
    "\n",
    "lr = LogisticRegression()\n",
    "lr.fit(train_X, train_y)\n",
    "prediction = lr.predict(test_X)\n",
    "accuracy_score(test_y, prediction)"
   ]
  },
  {
   "cell_type": "markdown",
   "metadata": {},
   "source": [
    "#### SVM"
   ]
  },
  {
   "cell_type": "code",
   "execution_count": null,
   "metadata": {},
   "outputs": [],
   "source": [
    "from sklearn.svm import SVC\n",
    "\n",
    "svc = SVC()\n",
    "svc.fit(train_X, train_y)\n",
    "prediction = svc.predict(test_X)\n",
    "accuracy_score(test_y, prediction)"
   ]
  },
  {
   "cell_type": "markdown",
   "metadata": {},
   "source": [
    "#### Random Forest"
   ]
  },
  {
   "cell_type": "code",
   "execution_count": null,
   "metadata": {},
   "outputs": [],
   "source": [
    "from sklearn.ensemble import RandomForestClassifier\n",
    "\n",
    "rf = RandomForestClassifier()\n",
    "rf.fit(train_X, train_y)\n",
    "prediction = rf.predict(test_X)\n",
    "accuracy_score(test_y, prediction)"
   ]
  },
  {
   "cell_type": "markdown",
   "metadata": {},
   "source": [
    "#### XGBoost"
   ]
  },
  {
   "cell_type": "code",
   "execution_count": null,
   "metadata": {},
   "outputs": [],
   "source": [
    "from xgboost import XGBClassifier\n",
    "\n",
    "xgb = XGBClassifier()\n",
    "xgb.fit(train_X, train_y)\n",
    "prediction = xgb.predict(test_X)\n",
    "accuracy_score(test_y, predition)"
   ]
  },
  {
   "cell_type": "code",
   "execution_count": null,
   "metadata": {},
   "outputs": [],
   "source": []
  }
 ],
 "metadata": {
  "kernelspec": {
   "display_name": "Python 3",
   "language": "python",
   "name": "python3"
  },
  "language_info": {
   "codemirror_mode": {
    "name": "ipython",
    "version": 3
   },
   "file_extension": ".py",
   "mimetype": "text/x-python",
   "name": "python",
   "nbconvert_exporter": "python",
   "pygments_lexer": "ipython3",
   "version": "3.7.2"
  }
 },
 "nbformat": 4,
 "nbformat_minor": 2
}
